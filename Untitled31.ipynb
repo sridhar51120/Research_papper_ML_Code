{
  "nbformat": 4,
  "nbformat_minor": 0,
  "metadata": {
    "colab": {
      "provenance": [],
      "authorship_tag": "ABX9TyOL7bS1LjabdBRTZDugRMWi",
      "include_colab_link": true
    },
    "kernelspec": {
      "name": "python3",
      "display_name": "Python 3"
    },
    "language_info": {
      "name": "python"
    }
  },
  "cells": [
    {
      "cell_type": "markdown",
      "metadata": {
        "id": "view-in-github",
        "colab_type": "text"
      },
      "source": [
        "<a href=\"https://colab.research.google.com/github/sridhar51120/Research/blob/main/Untitled31.ipynb\" target=\"_parent\"><img src=\"https://colab.research.google.com/assets/colab-badge.svg\" alt=\"Open In Colab\"/></a>"
      ]
    },
    {
      "cell_type": "code",
      "execution_count": null,
      "metadata": {
        "id": "sLDLIzmVJUc9"
      },
      "outputs": [],
      "source": [
        "!pip install moviepy\n",
        "!pip install SpeechRecognition\n",
        "!pip install pytesseract\n",
        "!sudo apt-get install tesseract-ocr\n",
        "!pip install transformers\n",
        "!pip install fer\n",
        "!pip install mediapipe\n",
        "!pip install pydub\n",
        "!pip install tensorflow opencv-python\n",
        "!pip install opencv-python\n",
        "!pip install pandas matplotlib wordcloud"
      ]
    }
  ]
}